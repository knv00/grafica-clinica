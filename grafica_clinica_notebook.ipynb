{
 "cells": [
  {
   "cell_type": "markdown",
   "id": "d7c21256",
   "metadata": {},
   "source": [
    "# Evolución de síntomas vs funcionalidad psicosocial"
   ]
  },
  {
   "cell_type": "code",
   "execution_count": null,
   "id": "8018b5b6",
   "metadata": {},
   "outputs": [],
   "source": [
    "import matplotlib.pyplot as plt\n",
    "import numpy as np\n",
    "from scipy.interpolate import make_interp_spline\n",
    "\n",
    "plt.style.use('seaborn-darkgrid')\n",
    "fig, ax = plt.subplots(figsize=(12, 6))\n",
    "\n",
    "# Datos\n",
    "tiempo = np.array([-12, -6, 0, 1, 3, 6, 9, 12, 15, 18, 21, 24, 30])\n",
    "sintomas = np.array([0, 0, 0, 100, 30, 20, 25, 20, 50, 30, 60, 35, 30])\n",
    "funcionalidad = np.array([90, 90, 90, 85, 70, 60, 55, 50, 40, 45, 35, 40, 50])\n",
    "\n",
    "# Curvas suavizadas\n",
    "tiempo_new = np.linspace(tiempo.min(), tiempo.max(), 400)\n",
    "spl_sintomas = make_interp_spline(tiempo, sintomas, k=3)\n",
    "spl_funcionalidad = make_interp_spline(tiempo, funcionalidad, k=3)\n",
    "\n",
    "sintomas_smooth = spl_sintomas(tiempo_new)\n",
    "funcionalidad_smooth = spl_funcionalidad(tiempo_new)\n",
    "\n",
    "# Gráficas\n",
    "ax.plot(tiempo_new / 12, sintomas_smooth, 'r-', linewidth=3, label='Síntomas clínicos')\n",
    "ax.plot(tiempo_new / 12, funcionalidad_smooth, 'b-', linewidth=3, label='Funcionalidad psicosocial')\n",
    "\n",
    "# Área sombreada\n",
    "ax.fill_between(tiempo_new / 12, sintomas_smooth, funcionalidad_smooth, where=sintomas_smooth>funcionalidad_smooth, \n",
    "                color='gray', alpha=0.2, label='Brecha recuperación')\n",
    "\n",
    "# Recaídas\n",
    "recaidas = [15, 21]\n",
    "for t in recaidas:\n",
    "    t_years = t / 12\n",
    "    ax.axvline(x=t_years, color='k', linestyle='--', alpha=0.5)\n",
    "    ax.text(t_years, 85, 'Recaída', ha='center', bbox=dict(facecolor='white', alpha=0.8))\n",
    "\n",
    "# Textos explicativos\n",
    "ax.text(-0.9, 90, 'Periodo sin síntomas', color='gray', fontsize=10)\n",
    "ax.text(0.2, 95, 'Inicio agudo del cuadro', color='red', fontsize=10)\n",
    "ax.text(1, 30, 'Recuperación incompleta', color='blue', fontsize=10)\n",
    "ax.text(1.25, 60, 'Impacto acumulativo', bbox=dict(facecolor='white', alpha=0.8), fontsize=10)\n",
    "\n",
    "# Ajustes visuales\n",
    "ax.set_ylim(0, 110)\n",
    "ax.set_xlim(-1.5, 3)\n",
    "ax.set_xlabel('Tiempo (años)', fontsize=12)\n",
    "ax.set_ylabel('Clínica', fontsize=12)\n",
    "ax.set_title('Evolución de síntomas vs. funcionalidad psicosocial', fontsize=14, pad=20)\n",
    "ax.legend(loc='upper right')\n",
    "ax.set_xticks([])\n",
    "ax.set_yticks([])\n",
    "\n",
    "plt.tight_layout()\n",
    "plt.show()"
   ]
  }
 ],
 "metadata": {
  "kernelspec": {
   "display_name": "Python 3",
   "name": "python3"
  }
 },
 "nbformat": 4,
 "nbformat_minor": 5
}